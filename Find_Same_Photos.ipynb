{
 "cells": [
  {
   "cell_type": "markdown",
   "metadata": {},
   "source": [
    "# 중복 사진정리"
   ]
  },
  {
   "cell_type": "markdown",
   "metadata": {},
   "source": [
    "1년 넘게 미룬 사진정리를 드디어 해야겠다고 마음먹었다. 내 사진첩에는 중복된 사진이 너무나도 많았는데 하나하나 손으로 할 수 없다고 생각했다. 그래서 python에 있는 이미지 인식을 이용하였다.\n",
    "\n",
    "수천개의 사진의 이미지를 전부 대조할 수 없으니 우선적으로 처리할 수 있는 방안을 생각해보았다.  \n",
    "&nbsp;   \n",
    "    \n",
    "    💡생각 1 : 저장명이 겹치면 같은 파일이다. \n",
    "\n",
    "    ex) \n",
    "      6E5DD712-4FDF-4677-AF33-63E29F975035.jpeg\n",
    "      6E5DD712-4FDF-4677-AF33-63E29F975035 2.jpeg\n",
    " \n",
    "    💡생각 2 : 용량이 같으면 같은 파일이다. \n",
    "    \n",
    "&nbsp;    \n",
    "이 두가지 생각을 토대로 중복사진 정리를 해보았다.\n"
   ]
  },
  {
   "cell_type": "code",
   "execution_count": 1,
   "metadata": {},
   "outputs": [],
   "source": [
    "import os   # 운영체제\n",
    "import pandas as pd   # 판다스"
   ]
  },
  {
   "cell_type": "markdown",
   "metadata": {},
   "source": [
    "용량이 같고 이름이 겹치면 같은 파일이다.  \n",
    "ex)  \n",
    "&nbsp; 6E5DD712-4FDF-4677-AF33-63E29F975035.jpeg  \n",
    "&nbsp; 6E5DD712-4FDF-4677-AF33-63E29F975035 2.jpeg  \n",
    "  \n",
    "1. 용량이 같은 것끼리 분류\n",
    "2. 같은 용량끼리 이미지 비교\n",
    "---  "
   ]
  },
  {
   "cell_type": "markdown",
   "metadata": {},
   "source": [
    "### Photo File"
   ]
  },
  {
   "cell_type": "markdown",
   "metadata": {},
   "source": [
    "1. 사진 목록 불러오기  \n",
    "```os.listdir('path')``` : 경로에 있는 파일 목록 불러오기"
   ]
  },
  {
   "cell_type": "code",
   "execution_count": 2,
   "metadata": {},
   "outputs": [],
   "source": [
    "photo_list = []\n",
    "for f in os.listdir('/Users/mizy/Desktop/mizy/Image/Photo'):\n",
    "    if 'jpeg' in f:\n",
    "        photo_list.append(f)"
   ]
  },
  {
   "cell_type": "markdown",
   "metadata": {},
   "source": [
    "2. 사진의 크기 구하기  \n",
    "```os.path.getsize('path/filename')``` : 파일 크기 구하기"
   ]
  },
  {
   "cell_type": "code",
   "execution_count": 3,
   "metadata": {},
   "outputs": [],
   "source": [
    "photo_size = list(map(lambda x: os.path.getsize('/Users/mizy/Desktop/mizy/Image/Photo' + '/' + x), photo_list))"
   ]
  },
  {
   "cell_type": "markdown",
   "metadata": {},
   "source": [
    "3. 데이터프레임으로 만들기"
   ]
  },
  {
   "cell_type": "code",
   "execution_count": 4,
   "metadata": {},
   "outputs": [],
   "source": [
    "# Find Same Photos\n",
    "fsp = pd.DataFrame({'filename_raw':photo_list, 'size':photo_size})"
   ]
  },
  {
   "cell_type": "code",
   "execution_count": 5,
   "metadata": {},
   "outputs": [
    {
     "name": "stdout",
     "output_type": "stream",
     "text": [
      "사진의 갯수 : 5081\n"
     ]
    }
   ],
   "source": [
    "print('사진의 갯수 :', len(fsp))"
   ]
  },
  {
   "cell_type": "code",
   "execution_count": 6,
   "metadata": {},
   "outputs": [
    {
     "data": {
      "text/html": [
       "<div>\n",
       "<style scoped>\n",
       "    .dataframe tbody tr th:only-of-type {\n",
       "        vertical-align: middle;\n",
       "    }\n",
       "\n",
       "    .dataframe tbody tr th {\n",
       "        vertical-align: top;\n",
       "    }\n",
       "\n",
       "    .dataframe thead th {\n",
       "        text-align: right;\n",
       "    }\n",
       "</style>\n",
       "<table border=\"1\" class=\"dataframe\">\n",
       "  <thead>\n",
       "    <tr style=\"text-align: right;\">\n",
       "      <th></th>\n",
       "      <th>filename_raw</th>\n",
       "      <th>size</th>\n",
       "    </tr>\n",
       "  </thead>\n",
       "  <tbody>\n",
       "    <tr>\n",
       "      <td>4788</td>\n",
       "      <td>1DCBB19B-D671-4293-AE4C-44E0BF3EACF1 2.jpeg</td>\n",
       "      <td>451001</td>\n",
       "    </tr>\n",
       "    <tr>\n",
       "      <td>3845</td>\n",
       "      <td>05FDA157-8781-4C5E-9828-54E3DBF3388E.jpeg</td>\n",
       "      <td>471993</td>\n",
       "    </tr>\n",
       "  </tbody>\n",
       "</table>\n",
       "</div>"
      ],
      "text/plain": [
       "                                     filename_raw    size\n",
       "4788  1DCBB19B-D671-4293-AE4C-44E0BF3EACF1 2.jpeg  451001\n",
       "3845    05FDA157-8781-4C5E-9828-54E3DBF3388E.jpeg  471993"
      ]
     },
     "execution_count": 6,
     "metadata": {},
     "output_type": "execute_result"
    }
   ],
   "source": [
    "fsp.sample(2)"
   ]
  },
  {
   "cell_type": "markdown",
   "metadata": {},
   "source": [
    "'filename 숫자.jpeg' 형식으로 이루어진 사진 이름이 있는데 < 💡생각1 >에서 말한대로 저장명이 겹치고 맨 뒤에 ' 숫자'가 오면 같은 파일이라고 볼 수 있다. 따라서 ' 숫자'를 제거하여 파일명이 중복인 사진을 구분할 것이다. "
   ]
  },
  {
   "cell_type": "markdown",
   "metadata": {},
   "source": [
    "4. &nbsp;    \n",
    "&nbsp; ' 숫자' 제거하기  "
   ]
  },
  {
   "cell_type": "code",
   "execution_count": 7,
   "metadata": {},
   "outputs": [],
   "source": [
    "import re   # 정규표현식\n",
    "\n",
    "com = re.compile(' \\d')\n",
    "fsp['filename'] = list(map(lambda x: com.sub('', x), photo_list))"
   ]
  },
  {
   "cell_type": "markdown",
   "metadata": {},
   "source": [
    "정규표현식을 이용하여 ' 숫자'에 해당하는 값을 지워주었다. "
   ]
  },
  {
   "cell_type": "markdown",
   "metadata": {},
   "source": [
    "### 겹치는 파일명 / 파일크기 확인"
   ]
  },
  {
   "cell_type": "markdown",
   "metadata": {},
   "source": [
    "```df.value_counts(['기준열'])``` : 열 값의 개수세기"
   ]
  },
  {
   "cell_type": "code",
   "execution_count": 8,
   "metadata": {
    "scrolled": true
   },
   "outputs": [],
   "source": [
    "# Photo Value Counts\n",
    "pvc = pd.DataFrame({'filename':fsp['filename'].value_counts().index, 'fn_counts':fsp['filename'].value_counts().values})   \n",
    "psvc = pd.DataFrame({'size':fsp['size'].value_counts().index, 'size_counts':fsp['size'].value_counts().values})   \n",
    "\n",
    "fsp = pd.merge(fsp, pvc, how = 'left', on = 'filename')\n",
    "fsp = pd.merge(fsp, psvc, how = 'left', on = 'size')"
   ]
  },
  {
   "cell_type": "markdown",
   "metadata": {},
   "source": [
    "각 파일별로 겹치는 이름과 크기가 몇 개씩인지 확인해보았다."
   ]
  },
  {
   "cell_type": "code",
   "execution_count": 9,
   "metadata": {},
   "outputs": [
    {
     "data": {
      "text/html": [
       "<div>\n",
       "<style scoped>\n",
       "    .dataframe tbody tr th:only-of-type {\n",
       "        vertical-align: middle;\n",
       "    }\n",
       "\n",
       "    .dataframe tbody tr th {\n",
       "        vertical-align: top;\n",
       "    }\n",
       "\n",
       "    .dataframe thead th {\n",
       "        text-align: right;\n",
       "    }\n",
       "</style>\n",
       "<table border=\"1\" class=\"dataframe\">\n",
       "  <thead>\n",
       "    <tr style=\"text-align: right;\">\n",
       "      <th></th>\n",
       "      <th>filename_raw</th>\n",
       "      <th>size</th>\n",
       "      <th>filename</th>\n",
       "      <th>fn_counts</th>\n",
       "      <th>size_counts</th>\n",
       "    </tr>\n",
       "  </thead>\n",
       "  <tbody>\n",
       "    <tr>\n",
       "      <td>1828</td>\n",
       "      <td>FAEECB8C-184D-40E7-AF54-5E802724D338.jpeg</td>\n",
       "      <td>143629</td>\n",
       "      <td>FAEECB8C-184D-40E7-AF54-5E802724D338.jpeg</td>\n",
       "      <td>1</td>\n",
       "      <td>1</td>\n",
       "    </tr>\n",
       "    <tr>\n",
       "      <td>3015</td>\n",
       "      <td>323323A4-2BF2-4F7F-92FC-65EE52D75E69.jpeg</td>\n",
       "      <td>703598</td>\n",
       "      <td>323323A4-2BF2-4F7F-92FC-65EE52D75E69.jpeg</td>\n",
       "      <td>2</td>\n",
       "      <td>2</td>\n",
       "    </tr>\n",
       "  </tbody>\n",
       "</table>\n",
       "</div>"
      ],
      "text/plain": [
       "                                   filename_raw    size  \\\n",
       "1828  FAEECB8C-184D-40E7-AF54-5E802724D338.jpeg  143629   \n",
       "3015  323323A4-2BF2-4F7F-92FC-65EE52D75E69.jpeg  703598   \n",
       "\n",
       "                                       filename  fn_counts  size_counts  \n",
       "1828  FAEECB8C-184D-40E7-AF54-5E802724D338.jpeg          1            1  \n",
       "3015  323323A4-2BF2-4F7F-92FC-65EE52D75E69.jpeg          2            2  "
      ]
     },
     "execution_count": 9,
     "metadata": {},
     "output_type": "execute_result"
    }
   ],
   "source": [
    "fsp.sample(2)"
   ]
  },
  {
   "cell_type": "markdown",
   "metadata": {},
   "source": [
    "🙋🏻‍♀️Q. 이름은 같은데 크기가 다른게 있나?"
   ]
  },
  {
   "cell_type": "code",
   "execution_count": 10,
   "metadata": {},
   "outputs": [],
   "source": [
    "for i in range(len(fsp)):\n",
    "    if (fsp['fn_counts'][i] > 1) & (fsp['size_counts'][i] == 1):\n",
    "        print(i)"
   ]
  },
  {
   "cell_type": "markdown",
   "metadata": {},
   "source": [
    "→ 없다. 이름이 같으면 크기도 같음  \n",
    "= 이름이 같은건 하나만 남겨도 됨"
   ]
  },
  {
   "cell_type": "markdown",
   "metadata": {},
   "source": [
    "```df.sort_values(['기준열'])``` : 정렬  \n",
    "```df.drop_duplicates(['기준열'])``` : 중복제거"
   ]
  },
  {
   "cell_type": "code",
   "execution_count": 11,
   "metadata": {},
   "outputs": [],
   "source": [
    "# Find Same Phto_Not Same Name\n",
    "fsp_nsn = fsp.sort_values(['filename_raw'], ascending = False).drop_duplicates(['filename'], keep = 'first')"
   ]
  },
  {
   "cell_type": "markdown",
   "metadata": {},
   "source": [
    "' 숫자'인 파일을 제거하고 싶어서 내림차순으로 정렬해주었다. 이후 숫자가 제거된 파일명을 기준으로 중복제거하였다. "
   ]
  },
  {
   "cell_type": "code",
   "execution_count": 12,
   "metadata": {},
   "outputs": [
    {
     "name": "stdout",
     "output_type": "stream",
     "text": [
      "남은 사진의 갯수 : 3877\n",
      "지워진 사진의 갯수 : 1204\n"
     ]
    }
   ],
   "source": [
    "print('남은 사진의 갯수 : {}\\n지워진 사진의 갯수 : {}'.format(len(fsp_nsn), len(fsp)-len(fsp_nsn)))"
   ]
  },
  {
   "cell_type": "markdown",
   "metadata": {},
   "source": [
    "---  "
   ]
  },
  {
   "cell_type": "code",
   "execution_count": 13,
   "metadata": {},
   "outputs": [],
   "source": [
    "pvc_nsn = pd.DataFrame({'filename':fsp_nsn['filename'].value_counts().index, 'fn_counts_nsn':fsp_nsn['filename'].value_counts().values})   \n",
    "psvc_nsn = pd.DataFrame({'size':fsp_nsn['size'].value_counts().index, 'size_counts_nsn':fsp_nsn['size'].value_counts().values})   \n",
    "\n",
    "fsp_nsn = pd.merge(fsp_nsn, pvc_nsn, how = 'left', on = 'filename')\n",
    "fsp_nsn = pd.merge(fsp_nsn, psvc_nsn, how = 'left', on = 'size')"
   ]
  },
  {
   "cell_type": "markdown",
   "metadata": {},
   "source": [
    "🙋🏻‍♀️ Q. 이름 겹치는게 남아있나?"
   ]
  },
  {
   "cell_type": "code",
   "execution_count": 14,
   "metadata": {},
   "outputs": [
    {
     "data": {
      "text/html": [
       "<div>\n",
       "<style scoped>\n",
       "    .dataframe tbody tr th:only-of-type {\n",
       "        vertical-align: middle;\n",
       "    }\n",
       "\n",
       "    .dataframe tbody tr th {\n",
       "        vertical-align: top;\n",
       "    }\n",
       "\n",
       "    .dataframe thead th {\n",
       "        text-align: right;\n",
       "    }\n",
       "</style>\n",
       "<table border=\"1\" class=\"dataframe\">\n",
       "  <thead>\n",
       "    <tr style=\"text-align: right;\">\n",
       "      <th></th>\n",
       "      <th>filename_raw</th>\n",
       "      <th>size</th>\n",
       "      <th>filename</th>\n",
       "      <th>fn_counts</th>\n",
       "      <th>size_counts</th>\n",
       "      <th>fn_counts_nsn</th>\n",
       "      <th>size_counts_nsn</th>\n",
       "    </tr>\n",
       "  </thead>\n",
       "  <tbody>\n",
       "  </tbody>\n",
       "</table>\n",
       "</div>"
      ],
      "text/plain": [
       "Empty DataFrame\n",
       "Columns: [filename_raw, size, filename, fn_counts, size_counts, fn_counts_nsn, size_counts_nsn]\n",
       "Index: []"
      ]
     },
     "execution_count": 14,
     "metadata": {},
     "output_type": "execute_result"
    }
   ],
   "source": [
    "fsp_nsn[fsp_nsn['fn_counts_nsn']!=1]"
   ]
  },
  {
   "cell_type": "markdown",
   "metadata": {},
   "source": [
    "→ 없다.  \n",
    "\n",
    "🙋🏻‍♀️ Q. 남아있는 사이즈 겹치는 것들의 갯수는?"
   ]
  },
  {
   "cell_type": "code",
   "execution_count": 15,
   "metadata": {
    "scrolled": true
   },
   "outputs": [
    {
     "name": "stdout",
     "output_type": "stream",
     "text": [
      "사이즈 겹치는 사진의 갯수 : 60\n",
      "중복 사이즈의 갯수 : 30\n"
     ]
    }
   ],
   "source": [
    "print('사이즈 겹치는 사진의 갯수 :', len(fsp_nsn[fsp_nsn['size_counts_nsn']!=1]))\n",
    "print('중복 사이즈의 갯수 :', len(psvc_nsn[psvc_nsn['size_counts_nsn']>1]))"
   ]
  },
  {
   "cell_type": "markdown",
   "metadata": {},
   "source": [
    "### 이미지 비교"
   ]
  },
  {
   "cell_type": "markdown",
   "metadata": {},
   "source": [
    "남은 것은 사이즈는 같지만 저장명은 완전히 다른 것들이다. 이미지 비교가 필요한 사진들이라 OpenCV와 skimage를 이용하였다.\n",
    "\n",
    "&nbsp; 1) 사이즈가 같은 두 이미지를 불러온다.  \n",
    "&nbsp; 2) 이미지를 array로 변환했을 때 구조가 같다면 두 이미지에 차이가 있는지 확인한다.   \n",
    "&nbsp; 3) 만약 두개의 이미지 구조가 같은데 차이가 존재한다면 그 사진은 직접 확인하기로 한다.  \n",
    "\n",
    "위 순서대로 아래 코드를 작성해보았다.  \n",
    "\n",
    "```cv2.imread('path')``` : 이미지 읽기"
   ]
  },
  {
   "cell_type": "code",
   "execution_count": 16,
   "metadata": {},
   "outputs": [
    {
     "name": "stdout",
     "output_type": "stream",
     "text": [
      "확인해보시오! :  CB8D02A7-A4CD-4F8C-9459-DDB7D57BB5B2.jpeg / B72DC723-5AC4-42FE-8A46-CB68A16123D3.jpeg (score : 0.33035451451666076)\n",
      "확인해보시오! :  A1D66410-97E2-4E50-A605-47D589270D07.jpeg / 2A2FDD14-AE0B-4C93-89CA-F440646BBF8B.jpeg (score : 0.9999543491150039)\n"
     ]
    }
   ],
   "source": [
    "import cv2   # OpenCV\n",
    "from skimage.measure import compare_ssim\n",
    "\n",
    "# 삭제될 사진의 리스트\n",
    "delete = []\n",
    "\n",
    "\n",
    "for i in range(len(psvc_nsn)):\n",
    "    \n",
    "    # 중복된 크기(size)가 있는 경우\n",
    "    if psvc_nsn['size_counts_nsn'][i] == 2:\n",
    "        \n",
    "        # 그 크기에 해당하는 사진을 불러온다. \n",
    "        temp = fsp_nsn[fsp_nsn['size']==psvc_nsn['size'][i]].reset_index(drop = True).sort_values(['filename'])\n",
    "        \n",
    "        # 사진 읽기\n",
    "        imageA = cv2.imread('Photo/'+temp['filename_raw'][0])\n",
    "        imageB = cv2.imread('Photo/'+temp['filename_raw'][1])\n",
    "        \n",
    "        # 이미지를 grayscale로 변환\n",
    "        grayA = cv2.cvtColor(imageA, cv2.COLOR_BGR2GRAY)\n",
    "        grayB = cv2.cvtColor(imageB, cv2.COLOR_BGR2GRAY)\n",
    "        \n",
    "        # 이미지의 구조가 같다면 이미지 비교\n",
    "        if len(grayA)==len(grayB):\n",
    "            (score, diff) = compare_ssim(grayA, grayB, full=True)\n",
    "            \n",
    "            # 차이가 없다면 하나는 delete에 넣어주기\n",
    "            if score == 1:\n",
    "                delete.append(temp['filename_raw'][1])\n",
    "            \n",
    "            # 구조가 같지만 차이가 존재한다면 직접 확인하기     \n",
    "            else:\n",
    "                print('확인해보시오! : ', temp['filename_raw'][0], '/', temp['filename_raw'][1], f'(score : {score})')"
   ]
  },
  {
   "cell_type": "markdown",
   "metadata": {},
   "source": [
    "### Result"
   ]
  },
  {
   "cell_type": "markdown",
   "metadata": {},
   "source": [
    "1. Delete  \n",
    "앞전에 사진명 중복제거로 제거된 파일들을 delete리스트에 넣어준다."
   ]
  },
  {
   "cell_type": "code",
   "execution_count": 17,
   "metadata": {},
   "outputs": [
    {
     "name": "stdout",
     "output_type": "stream",
     "text": [
      "삭제할 목록 : 1226\n"
     ]
    }
   ],
   "source": [
    "# 중복제거된 것들은 delete 리스트에 넣어주기\n",
    "delete = delete + list(fsp[~fsp['filename_raw'].isin(fsp_nsn['filename_raw'])]['filename_raw'])\n",
    "\n",
    "print('삭제할 목록 :', len(delete))"
   ]
  },
  {
   "cell_type": "markdown",
   "metadata": {},
   "source": [
    "2. Result  \n",
    "전체데이터 - delete = 남길데이터"
   ]
  },
  {
   "cell_type": "code",
   "execution_count": 18,
   "metadata": {},
   "outputs": [
    {
     "name": "stdout",
     "output_type": "stream",
     "text": [
      "남길 목록 :  3855\n"
     ]
    }
   ],
   "source": [
    "# result : 처음(fsp)데이터에서 - delete를 제외한 것\n",
    "result = list(fsp[~fsp['filename_raw'].isin(delete)]['filename_raw'])\n",
    "\n",
    "print('남길 목록 : ', len(result))"
   ]
  },
  {
   "cell_type": "markdown",
   "metadata": {},
   "source": [
    "3. 사진 옮기기  \n",
    "현재 정리되지 않은 사진들은 Photo에 있다. Delete와 Result 폴더를 새로 만들어 주어 버릴 사진과 남길 사진을 구분지어 두었다.  \n",
    "```shutil.move('path/file', '이동할 경로')``` : 파일을 '이동할 경로'로 옮겨준다.  "
   ]
  },
  {
   "cell_type": "code",
   "execution_count": 19,
   "metadata": {},
   "outputs": [],
   "source": [
    "import shutil\n",
    "\n",
    "for i in result:\n",
    "    shutil.move('Photo/'+i, '/Users/mizy/Desktop/mizy/Image/Result')\n",
    "    \n",
    "for i in delete:\n",
    "    shutil.move('Photo/'+i, '/Users/mizy/Desktop/mizy/Image/Delete')    "
   ]
  },
  {
   "cell_type": "markdown",
   "metadata": {},
   "source": [
    "정리 끝!"
   ]
  }
 ],
 "metadata": {
  "kernelspec": {
   "display_name": "Python 3",
   "language": "python",
   "name": "python3"
  },
  "language_info": {
   "codemirror_mode": {
    "name": "ipython",
    "version": 3
   },
   "file_extension": ".py",
   "mimetype": "text/x-python",
   "name": "python",
   "nbconvert_exporter": "python",
   "pygments_lexer": "ipython3",
   "version": "3.7.4"
  }
 },
 "nbformat": 4,
 "nbformat_minor": 2
}
