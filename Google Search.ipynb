{
 "cells": [
  {
   "cell_type": "code",
   "execution_count": 1,
   "metadata": {},
   "outputs": [],
   "source": [
    "import time\n",
    "from selenium import webdriver\n",
    "\n",
    "# 크롬드라이버 : 크롬 창 열기\n",
    "driver = webdriver.Chrome('./chromedriver')\n",
    "\n",
    "for word in ['사과', '딸기', '바나나']:\n",
    "\n",
    "    # 구글 검색\n",
    "    driver.get(f'https://www.google.com/search?q={word}')\n",
    "    \n",
    "    # 3초 기다리기\n",
    "    time.sleep(3)\n",
    "\n",
    "# 크롬드라이버 종료 : 크롬 창 닫기    \n",
    "driver.close()"
   ]
  }
 ],
 "metadata": {
  "kernelspec": {
   "display_name": "Python 3",
   "language": "python",
   "name": "python3"
  },
  "language_info": {
   "codemirror_mode": {
    "name": "ipython",
    "version": 3
   },
   "file_extension": ".py",
   "mimetype": "text/x-python",
   "name": "python",
   "nbconvert_exporter": "python",
   "pygments_lexer": "ipython3",
   "version": "3.8.5"
  }
 },
 "nbformat": 4,
 "nbformat_minor": 4
}
